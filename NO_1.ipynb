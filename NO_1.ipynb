{
  "nbformat": 4,
  "nbformat_minor": 0,
  "metadata": {
    "colab": {
      "provenance": []
    },
    "kernelspec": {
      "name": "python3",
      "display_name": "Python 3"
    },
    "language_info": {
      "name": "python"
    }
  },
  "cells": [
    {
      "cell_type": "code",
      "execution_count": 33,
      "metadata": {
        "colab": {
          "base_uri": "https://localhost:8080/"
        },
        "id": "xIq3msneRSRQ",
        "outputId": "71c1fc47-2f1f-417f-9a04-111c86cb49ec"
      },
      "outputs": [
        {
          "output_type": "stream",
          "name": "stdout",
          "text": [
            "                                                title  \\\n",
            "0   Mahfud MD: Anggota Legislatif Banyak Berkolusi...   \n",
            "1   Amazon Kembali PHK Karyawan, Kali Ini Divisi M...   \n",
            "2   Survei Populi: Prabowo-Gibran Menang Satu Putaran   \n",
            "3   Ratusan Pedemo Pro-Palestina di Australia Blok...   \n",
            "4   BTPN Bongkar Manfaat Digitalisasi: Pinjam Dana...   \n",
            "..                                                ...   \n",
            "95  Kebanjiran Penumpang, Kereta Cepat Whoosh Kini...   \n",
            "96  Polisi Datangi DPC PDIP Solo, Istana Tepis Tud...   \n",
            "97  Efek AI Buat Internet BAKTI, Efisienkan Pemeli...   \n",
            "98   Survei: 13 Profesi yang Disebut Rentan Selingkuh   \n",
            "99  Vonis Irwan Hermawan: Tidak Terbukti TPPU, JC ...   \n",
            "\n",
            "                                                 link  \\\n",
            "0   https://www.cnnindonesia.com/nasional/20231109...   \n",
            "1   https://www.cnnindonesia.com/ekonomi/202311091...   \n",
            "2   https://www.cnnindonesia.com/nasional/20231109...   \n",
            "3   https://www.cnnindonesia.com/internasional/202...   \n",
            "4   https://www.cnnindonesia.com/teknologi/2023110...   \n",
            "..                                                ...   \n",
            "95  https://www.cnnindonesia.com/ekonomi/202311091...   \n",
            "96  https://www.cnnindonesia.com/nasional/20231109...   \n",
            "97  https://www.cnnindonesia.com/teknologi/2023110...   \n",
            "98  https://www.cnnindonesia.com/gaya-hidup/202311...   \n",
            "99  https://www.cnnindonesia.com/nasional/20231109...   \n",
            "\n",
            "                                       contentSnippet  \\\n",
            "0   Mahfud MD menyebut tindak pidana korupsi banya...   \n",
            "1   Amazon kembali memutus hubungan kerja (PHK) ka...   \n",
            "2   Hasil survei terbaru Populi Center menyatakan ...   \n",
            "3   Ratusan pedemo di Australia memblokir jalur pe...   \n",
            "4   PT Bank BTPN mengungkap salah satu manfaat dig...   \n",
            "..                                                ...   \n",
            "95  PT KCIC kembali menambah jadwal kereta cepat W...   \n",
            "96  Moeldoko menegaskan tak ada intervensi, termas...   \n",
            "97  Direktur Utama BAKTI Kominfo Fadhilah Mathar m...   \n",
            "98  Berdasarkan survei terbaru, profesi atau peker...   \n",
            "99  Komisaris PT Solitech Media Sinergy Irwan Herm...   \n",
            "\n",
            "                     isoDate  \\\n",
            "0   2023-11-09T13:45:59.000Z   \n",
            "1   2023-11-09T13:40:14.000Z   \n",
            "2   2023-11-09T13:37:25.000Z   \n",
            "3   2023-11-09T13:33:42.000Z   \n",
            "4   2023-11-09T13:33:20.000Z   \n",
            "..                       ...   \n",
            "95  2023-11-09T08:55:10.000Z   \n",
            "96  2023-11-09T08:54:03.000Z   \n",
            "97  2023-11-09T08:47:49.000Z   \n",
            "98  2023-11-09T08:45:11.000Z   \n",
            "99  2023-11-09T08:43:52.000Z   \n",
            "\n",
            "                                                image  \n",
            "0   {'small': 'https://akcdn.detik.net.id/visual/2...  \n",
            "1   {'small': 'https://akcdn.detik.net.id/visual/2...  \n",
            "2   {'small': 'https://akcdn.detik.net.id/visual/2...  \n",
            "3   {'small': 'https://akcdn.detik.net.id/visual/2...  \n",
            "4   {'small': 'https://akcdn.detik.net.id/visual/2...  \n",
            "..                                                ...  \n",
            "95  {'small': 'https://akcdn.detik.net.id/visual/2...  \n",
            "96  {'small': 'https://akcdn.detik.net.id/visual/2...  \n",
            "97  {'small': 'https://akcdn.detik.net.id/visual/2...  \n",
            "98  {'small': 'https://akcdn.detik.net.id/visual/2...  \n",
            "99  {'small': 'https://akcdn.detik.net.id/visual/2...  \n",
            "\n",
            "[100 rows x 5 columns]\n"
          ]
        }
      ],
      "source": [
        "import requests\n",
        "import pandas as pd\n",
        "\n",
        "api_url = \"https://berita-indo-api-next.vercel.app/api/cnn-news\"\n",
        "\n",
        "response = requests.get(api_url)\n",
        "hasil = response.json()\n",
        "\n",
        "berita_data = hasil.get(\"data\", [])\n",
        "\n",
        "# Membuat DataFrame dari data 'data'\n",
        "df = pd.DataFrame(berita_data)\n",
        "\n",
        "# Cetak DataFrame\n",
        "print(df)\n"
      ]
    },
    {
      "cell_type": "code",
      "source": [
        "agregasi_data = df['creator'].value_counts().reset_index()\n",
        "agregasi_data.columns = ['Creator', 'Jumlah Berita']\n",
        "\n",
        "# Mengurutkan berdasarkan jumlah berita terbanyak\n",
        "agregasi_data = agregasi_data.sort_values(by='Jumlah Berita', ascending=False)\n",
        "\n",
        "# Cetak hasil aggregasi\n",
        "print(agregasi_data)"
      ],
      "metadata": {
        "colab": {
          "base_uri": "https://localhost:8080/"
        },
        "id": "d0tj52FLUOtW",
        "outputId": "d85a409a-ea2d-4ce5-a13a-ca7650313b0d"
      },
      "execution_count": 36,
      "outputs": [
        {
          "output_type": "stream",
          "name": "stdout",
          "text": [
            "                                              Creator  Jumlah Berita\n",
            "0   Mahfud MD: Anggota Legislatif Banyak Berkolusi...              1\n",
            "63  Top Skor Liga Voli Korea: Megawati di Luar 3 B...              1\n",
            "73  Survei Populi: Prabowo-Gibran Menang Satu Putaran              1\n",
            "72  Ratusan Pedemo Pro-Palestina di Australia Blok...              1\n",
            "71  BTPN Bongkar Manfaat Digitalisasi: Pinjam Dana...              1\n",
            "..                                                ...            ...\n",
            "30  Polisi Datangi DPC PDIP Solo, Istana Tepis Tud...              1\n",
            "29  Efek AI Buat Internet BAKTI, Efisienkan Pemeli...              1\n",
            "28   Survei: 13 Profesi yang Disebut Rentan Selingkuh              1\n",
            "27  Segera Daftar CT ARSA Charity Fun Run 2023 Sel...              1\n",
            "99  Vonis Irwan Hermawan: Tidak Terbukti TPPU, JC ...              1\n",
            "\n",
            "[100 rows x 2 columns]\n"
          ]
        }
      ]
    }
  ]
}